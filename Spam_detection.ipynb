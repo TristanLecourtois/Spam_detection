{
 "cells": [
  {
   "cell_type": "markdown",
   "id": "1960881e-665e-4ced-b08d-dd80812f7a9e",
   "metadata": {},
   "source": [
    "### 1. Data loading and Preprocessing"
   ]
  },
  {
   "cell_type": "code",
   "execution_count": 1,
   "id": "f63529a4-2154-490e-932d-0c4fe123eb37",
   "metadata": {},
   "outputs": [],
   "source": [
    "import pandas as pd"
   ]
  },
  {
   "cell_type": "code",
   "execution_count": 3,
   "id": "d253dec3-5409-4cf3-a8c4-227fb895f446",
   "metadata": {},
   "outputs": [],
   "source": [
    "spam_data = pd.read_csv('spam.csv',encoding = 'latin-1')"
   ]
  },
  {
   "cell_type": "code",
   "execution_count": 6,
   "id": "2111a5ff-9946-49dc-b208-8424cb551752",
   "metadata": {},
   "outputs": [
    {
     "data": {
      "text/html": [
       "<div>\n",
       "<style scoped>\n",
       "    .dataframe tbody tr th:only-of-type {\n",
       "        vertical-align: middle;\n",
       "    }\n",
       "\n",
       "    .dataframe tbody tr th {\n",
       "        vertical-align: top;\n",
       "    }\n",
       "\n",
       "    .dataframe thead th {\n",
       "        text-align: right;\n",
       "    }\n",
       "</style>\n",
       "<table border=\"1\" class=\"dataframe\">\n",
       "  <thead>\n",
       "    <tr style=\"text-align: right;\">\n",
       "      <th></th>\n",
       "      <th>v1</th>\n",
       "      <th>v2</th>\n",
       "      <th>Unnamed: 2</th>\n",
       "      <th>Unnamed: 3</th>\n",
       "      <th>Unnamed: 4</th>\n",
       "    </tr>\n",
       "  </thead>\n",
       "  <tbody>\n",
       "    <tr>\n",
       "      <th>0</th>\n",
       "      <td>ham</td>\n",
       "      <td>Go until jurong point, crazy.. Available only ...</td>\n",
       "      <td>NaN</td>\n",
       "      <td>NaN</td>\n",
       "      <td>NaN</td>\n",
       "    </tr>\n",
       "    <tr>\n",
       "      <th>1</th>\n",
       "      <td>ham</td>\n",
       "      <td>Ok lar... Joking wif u oni...</td>\n",
       "      <td>NaN</td>\n",
       "      <td>NaN</td>\n",
       "      <td>NaN</td>\n",
       "    </tr>\n",
       "    <tr>\n",
       "      <th>2</th>\n",
       "      <td>spam</td>\n",
       "      <td>Free entry in 2 a wkly comp to win FA Cup fina...</td>\n",
       "      <td>NaN</td>\n",
       "      <td>NaN</td>\n",
       "      <td>NaN</td>\n",
       "    </tr>\n",
       "    <tr>\n",
       "      <th>3</th>\n",
       "      <td>ham</td>\n",
       "      <td>U dun say so early hor... U c already then say...</td>\n",
       "      <td>NaN</td>\n",
       "      <td>NaN</td>\n",
       "      <td>NaN</td>\n",
       "    </tr>\n",
       "    <tr>\n",
       "      <th>4</th>\n",
       "      <td>ham</td>\n",
       "      <td>Nah I don't think he goes to usf, he lives aro...</td>\n",
       "      <td>NaN</td>\n",
       "      <td>NaN</td>\n",
       "      <td>NaN</td>\n",
       "    </tr>\n",
       "  </tbody>\n",
       "</table>\n",
       "</div>"
      ],
      "text/plain": [
       "     v1                                                 v2 Unnamed: 2  \\\n",
       "0   ham  Go until jurong point, crazy.. Available only ...        NaN   \n",
       "1   ham                      Ok lar... Joking wif u oni...        NaN   \n",
       "2  spam  Free entry in 2 a wkly comp to win FA Cup fina...        NaN   \n",
       "3   ham  U dun say so early hor... U c already then say...        NaN   \n",
       "4   ham  Nah I don't think he goes to usf, he lives aro...        NaN   \n",
       "\n",
       "  Unnamed: 3 Unnamed: 4  \n",
       "0        NaN        NaN  \n",
       "1        NaN        NaN  \n",
       "2        NaN        NaN  \n",
       "3        NaN        NaN  \n",
       "4        NaN        NaN  "
      ]
     },
     "execution_count": 6,
     "metadata": {},
     "output_type": "execute_result"
    }
   ],
   "source": [
    "# Display the first few rows of the dataframe\n",
    "spam_data.head()"
   ]
  },
  {
   "cell_type": "code",
   "execution_count": 8,
   "id": "9e91325e-f625-4438-b8f8-3880df5b251f",
   "metadata": {},
   "outputs": [
    {
     "name": "stdout",
     "output_type": "stream",
     "text": [
      "<class 'pandas.core.frame.DataFrame'>\n",
      "RangeIndex: 5572 entries, 0 to 5571\n",
      "Data columns (total 5 columns):\n",
      " #   Column      Non-Null Count  Dtype \n",
      "---  ------      --------------  ----- \n",
      " 0   v1          5572 non-null   object\n",
      " 1   v2          5572 non-null   object\n",
      " 2   Unnamed: 2  50 non-null     object\n",
      " 3   Unnamed: 3  12 non-null     object\n",
      " 4   Unnamed: 4  6 non-null      object\n",
      "dtypes: object(5)\n",
      "memory usage: 217.8+ KB\n",
      "None\n"
     ]
    }
   ],
   "source": [
    "# Display information on the dataset\n",
    "print(spam_data.info())"
   ]
  },
  {
   "cell_type": "markdown",
   "id": "42d7ae5d-6b64-43ba-9e21-a9dcb22533a7",
   "metadata": {},
   "source": [
    "``v1`` contains the labels (ham or spam), and ``v2`` contains the text messages. The other columns (``Unnamed: 2``, ``Unnamed: 3``, ``Unnamed: 4``) have a significant number of missing values and seem not to be relevant for our analysis, so we'll consider dropping them."
   ]
  },
  {
   "cell_type": "code",
   "execution_count": 10,
   "id": "9ea42474-a661-4b64-b0f6-6150f0ac0acf",
   "metadata": {},
   "outputs": [],
   "source": [
    "# Drop the unnecessary columns\n",
    "spam_data_cleaned = spam_data.drop(columns=['Unnamed: 2', 'Unnamed: 3', 'Unnamed: 4'])"
   ]
  },
  {
   "cell_type": "code",
   "execution_count": 11,
   "id": "e85dfbfd-3329-405c-92e2-5ca580e4966f",
   "metadata": {},
   "outputs": [
    {
     "name": "stdout",
     "output_type": "stream",
     "text": [
      "        v1                                                 v2\n",
      "0      ham  Go until jurong point, crazy.. Available only ...\n",
      "1      ham                      Ok lar... Joking wif u oni...\n",
      "2     spam  Free entry in 2 a wkly comp to win FA Cup fina...\n",
      "3      ham  U dun say so early hor... U c already then say...\n",
      "4      ham  Nah I don't think he goes to usf, he lives aro...\n",
      "...    ...                                                ...\n",
      "5567  spam  This is the 2nd time we have tried 2 contact u...\n",
      "5568   ham              Will Ì_ b going to esplanade fr home?\n",
      "5569   ham  Pity, * was in mood for that. So...any other s...\n",
      "5570   ham  The guy did some bitching but I acted like i'd...\n",
      "5571   ham                         Rofl. Its true to its name\n",
      "\n",
      "[5572 rows x 2 columns]\n"
     ]
    }
   ],
   "source": [
    "print(spam_data_cleaned)"
   ]
  },
  {
   "cell_type": "code",
   "execution_count": 16,
   "id": "e718d807-65f7-4ce4-88a3-bfe49d3b3810",
   "metadata": {},
   "outputs": [],
   "source": [
    "from sklearn.model_selection import train_test_split\n",
    "from sklearn.feature_extraction.text import TfidfVectorizer\n",
    "from nltk.corpus import stopwords\n",
    "from nltk.stem import PorterStemmer\n",
    "import re\n",
    "import nltk"
   ]
  },
  {
   "cell_type": "code",
   "execution_count": 18,
   "id": "d7ebe457-6ca9-4ef3-a711-493258706026",
   "metadata": {},
   "outputs": [
    {
     "name": "stderr",
     "output_type": "stream",
     "text": [
      "[nltk_data] Downloading package stopwords to\n",
      "[nltk_data]     /Users/lecourtoistristan/nltk_data...\n",
      "[nltk_data]   Package stopwords is already up-to-date!\n"
     ]
    },
    {
     "data": {
      "text/plain": [
       "True"
      ]
     },
     "execution_count": 18,
     "metadata": {},
     "output_type": "execute_result"
    }
   ],
   "source": [
    "# Download Stop Words \n",
    "nltk.download('stopwords')"
   ]
  },
  {
   "cell_type": "markdown",
   "id": "c3c77b47-b0c7-40bc-8726-f81992067ae4",
   "metadata": {},
   "source": [
    "The text data cleaning process involved several steps:\n",
    "* Punctuation and numbers were removed, leaving only letters.\n",
    "* All text was converted to lowercase for consistency.\n",
    "* Common English words that don't add meaning (like \"the\", \"is\", \"in\") were taken out.\n",
    "* Stemming was used to reduce words down to their root form. This helps generalize different versions of the same word."
   ]
  },
  {
   "cell_type": "code",
   "execution_count": 33,
   "id": "8fffd49a-e1ab-4224-8f03-3a81dc1a16be",
   "metadata": {},
   "outputs": [
    {
     "name": "stdout",
     "output_type": "stream",
     "text": [
      "0    go jurong point crazi avail bugi n great world...\n",
      "1                                ok lar joke wif u oni\n",
      "2    free entri wkli comp win fa cup final tkt st m...\n",
      "3                  u dun say earli hor u c alreadi say\n",
      "4                 nah think goe usf live around though\n",
      "Name: v2, dtype: object\n"
     ]
    }
   ],
   "source": [
    "# Function to clean text data \n",
    "def clean_text(text):\n",
    "    # Remove punctuation and numbers\n",
    "    text = re.sub('[^a-zA-Z]', ' ', text)\n",
    "    # Convert text to lowercase\n",
    "    text = text.lower()\n",
    "    # Remove stopwords\n",
    "    stop_words = set(stopwords.words('english'))\n",
    "    text = ' '.join([word for word in text.split() if word not in stop_words])\n",
    "    # Stemming\n",
    "    stemmer = PorterStemmer()\n",
    "    text = ' '.join([stemmer.stem(word) for word in text.split()])\n",
    "    return text\n",
    "    \n",
    "# Apply the cleaning function to the text messages\n",
    "cleaned_texts = spam_data_cleaned['v2'].apply(clean_text)\n",
    "\n",
    "# Display the first few cleaned texts\n",
    "print(cleaned_texts.head())\n"
   ]
  },
  {
   "cell_type": "markdown",
   "id": "641a4f53-d8a6-4a1d-89f2-c69e25b529aa",
   "metadata": {},
   "source": [
    "Next we are goint to vectorize the cleaned text data using TF-IDF (Term Frequency-Inverse Document Frequency), which transforms the text into a numerical format that machine learning models can work with. This technique not only considers the frequency of words in each message but also how unique a word is across all messages, which is particularly useful for spam detection."
   ]
  },
  {
   "cell_type": "code",
   "execution_count": 34,
   "id": "38c940a7-1b7b-46e4-9fb4-211ff3716390",
   "metadata": {},
   "outputs": [
    {
     "name": "stdout",
     "output_type": "stream",
     "text": [
      "Training set shape: (4457, 6221)\n",
      "Testing set shape: (1115, 6221)\n"
     ]
    }
   ],
   "source": [
    "# Vectorizing the cleaned text data using TF-IDF\n",
    "vectorizer = TfidfVectorizer()\n",
    "X = vectorizer.fit_transform(cleaned_texts)\n",
    "y = spam_data_cleaned['v1'].map({'ham': 0, 'spam': 1})  # Convert labels to numerical format\n",
    "\n",
    "# Splitting the dataset into training and testing sets\n",
    "X_train, X_test, y_train, y_test = train_test_split(X, y, test_size=0.2, random_state=42)\n",
    "\n",
    "# Display the shape of the training and testing sets\n",
    "print('Training set shape:', X_train.shape)\n",
    "print('Testing set shape:', X_test.shape)"
   ]
  },
  {
   "cell_type": "markdown",
   "id": "781586d5-c917-4b19-90f3-cca30f275a36",
   "metadata": {},
   "source": [
    "### 2. Model Comparison"
   ]
  },
  {
   "cell_type": "markdown",
   "id": "d10c27c4-0cbc-47b2-b92c-1e961824ce8f",
   "metadata": {},
   "source": [
    "#### 2.1 Logistic Regression"
   ]
  },
  {
   "cell_type": "markdown",
   "id": "59342f59-eadd-4f6d-af01-a6b8516f37a6",
   "metadata": {},
   "source": [
    "We are going to use Logistic Regression as our initial model, train it on the training set, and evaluate its performance on the testing set."
   ]
  },
  {
   "cell_type": "code",
   "execution_count": 37,
   "id": "9fd42cc9-a9c9-43c0-b86d-af5f24ce7cd8",
   "metadata": {},
   "outputs": [
    {
     "name": "stdout",
     "output_type": "stream",
     "text": [
      "Accuracy: 0.9551569506726457\n",
      "Classification Report:\n",
      "               precision    recall  f1-score   support\n",
      "\n",
      "         Ham       0.95      1.00      0.97       965\n",
      "        Spam       0.96      0.69      0.81       150\n",
      "\n",
      "    accuracy                           0.96      1115\n",
      "   macro avg       0.96      0.84      0.89      1115\n",
      "weighted avg       0.96      0.96      0.95      1115\n",
      "\n"
     ]
    }
   ],
   "source": [
    "from sklearn.linear_model import LogisticRegression\n",
    "from sklearn.metrics import accuracy_score, classification_report\n",
    "\n",
    "# Initialize and train the Logistic Regression model\n",
    "log_reg = LogisticRegression(random_state=42)\n",
    "log_reg.fit(X_train, y_train)\n",
    "\n",
    "# Predict on the testing set\n",
    "y_pred = log_reg.predict(X_test)\n",
    "\n",
    "# Calculate accuracy\n",
    "accuracy = accuracy_score(y_test, y_pred)\n",
    "\n",
    "# Generate a classification report\n",
    "report = classification_report(y_test, y_pred, target_names=['Ham', 'Spam'])\n",
    "\n",
    "# Display the accuracy and classification report\n",
    "print('Accuracy:', accuracy)\n",
    "print('Classification Report:\\n', report)"
   ]
  },
  {
   "cell_type": "markdown",
   "id": "83cd698e-ddad-4d8e-9b52-c4ca6b0a1222",
   "metadata": {},
   "source": [
    "The Logistic Regression model achieved an accuracy of approximately 95.52% on the testing set. While the model performs exceptionally well in identifying Ham messages, with nearly perfect precision and recall, it shows slightly lower performance for Spam messages, particularly in terms of recall (69%). This indicates that the model is more conservative in predicting messages as Spam, likely to minimize false positives."
   ]
  },
  {
   "cell_type": "markdown",
   "id": "3ad7d2b9-4fec-4e0a-9b8e-6f7eff281195",
   "metadata": {},
   "source": [
    "#### 2.2 Naives Bayes"
   ]
  },
  {
   "cell_type": "markdown",
   "id": "b103fa87-3eb4-4cbb-8ada-25fde978da38",
   "metadata": {},
   "source": [
    "Let's start by experimenting with the Naive Bayes model, which is often effective for text classification tasks like spam detection"
   ]
  },
  {
   "cell_type": "code",
   "execution_count": 38,
   "id": "903e26b1-6de4-42d0-8938-20218d27f082",
   "metadata": {},
   "outputs": [
    {
     "name": "stdout",
     "output_type": "stream",
     "text": [
      "Naive Bayes Accuracy: 0.9659192825112107\n",
      "Naive Bayes Classification Report:\n",
      "               precision    recall  f1-score   support\n",
      "\n",
      "         Ham       0.96      1.00      0.98       965\n",
      "        Spam       1.00      0.75      0.85       150\n",
      "\n",
      "    accuracy                           0.97      1115\n",
      "   macro avg       0.98      0.87      0.92      1115\n",
      "weighted avg       0.97      0.97      0.96      1115\n",
      "\n"
     ]
    }
   ],
   "source": [
    "from sklearn.naive_bayes import MultinomialNB\n",
    "\n",
    "# Initialize and train the Naive Bayes model\n",
    "nb_model = MultinomialNB()\n",
    "nb_model.fit(X_train, y_train)\n",
    "\n",
    "# Predict on the testing set\n",
    "y_pred_nb = nb_model.predict(X_test)\n",
    "\n",
    "# Calculate accuracy\n",
    "accuracy_nb = accuracy_score(y_test, y_pred_nb)\n",
    "\n",
    "# Generate a classification report\n",
    "report_nb = classification_report(y_test, y_pred_nb, target_names=['Ham', 'Spam'])\n",
    "\n",
    "# Display the accuracy and classification report\n",
    "print('Naive Bayes Accuracy:', accuracy_nb)\n",
    "print('Naive Bayes Classification Report:\\n', report_nb)"
   ]
  },
  {
   "cell_type": "markdown",
   "id": "0176767e-e81f-482f-a421-9cc5bdc328bb",
   "metadata": {},
   "source": [
    "The Naive Bayes model achieved an accuracy of approximately 96.59% on the testing set, which is an improvement over the Logistic Regression model. The classification report shows that the model has perfect precision for Spam messages and a higher recall rate (75%) compared to the Logistic Regression model. This indicates that the Naive Bayes model is more effective in identifying Spam messages without increasing the number of false positives."
   ]
  },
  {
   "cell_type": "markdown",
   "id": "d636e77e-34d2-480d-a8f4-8a751eac8f91",
   "metadata": {},
   "source": [
    "#### 2.3 Support Vector Machine"
   ]
  },
  {
   "cell_type": "code",
   "execution_count": 40,
   "id": "ae63b84f-2d18-4ea8-b716-aba88b4cb609",
   "metadata": {},
   "outputs": [
    {
     "name": "stdout",
     "output_type": "stream",
     "text": [
      "SVM Accuracy: 0.9775784753363229\n",
      "SVM Classification Report:\n",
      "               precision    recall  f1-score   support\n",
      "\n",
      "         Ham       0.98      1.00      0.99       965\n",
      "        Spam       0.98      0.85      0.91       150\n",
      "\n",
      "    accuracy                           0.98      1115\n",
      "   macro avg       0.98      0.93      0.95      1115\n",
      "weighted avg       0.98      0.98      0.98      1115\n",
      "\n"
     ]
    }
   ],
   "source": [
    "from sklearn.svm import SVC\n",
    "\n",
    "# Initialize and train the Support Vector Machine model\n",
    "svm_model = SVC(kernel='linear', random_state=42)\n",
    "svm_model.fit(X_train, y_train)\n",
    "\n",
    "# Predict on the testing set\n",
    "y_pred_svm = svm_model.predict(X_test)\n",
    "\n",
    "# Calculate accuracy\n",
    "accuracy_svm = accuracy_score(y_test, y_pred_svm)\n",
    "\n",
    "# Generate a classification report\n",
    "report_svm = classification_report(y_test, y_pred_svm, target_names=['Ham', 'Spam'])\n",
    "\n",
    "# Display the accuracy and classification report\n",
    "print('SVM Accuracy:', accuracy_svm)\n",
    "print('SVM Classification Report:\\n', report_svm)"
   ]
  },
  {
   "cell_type": "markdown",
   "id": "f334e906-9dde-42e2-926d-52a5a5431924",
   "metadata": {},
   "source": [
    "The Support Vector Machine (SVM) mode achieves an accuracy of approximately 97.76%"
   ]
  },
  {
   "cell_type": "markdown",
   "id": "baa5f6d2-10c2-4145-8c7b-9747e1724580",
   "metadata": {},
   "source": [
    "#### 2.4 Random Forest"
   ]
  },
  {
   "cell_type": "code",
   "execution_count": 49,
   "id": "fdad8eac-e72e-47cb-b237-84d2e108d236",
   "metadata": {},
   "outputs": [
    {
     "name": "stdout",
     "output_type": "stream",
     "text": [
      "Best Parameters: {'max_depth': 20, 'min_samples_leaf': 1, 'min_samples_split': 2, 'n_estimators': 200}\n",
      "Accuracy: 91.57%\n"
     ]
    }
   ],
   "source": [
    "from sklearn.ensemble import RandomForestClassifier\n",
    "from sklearn.model_selection import GridSearchCV\n",
    "from sklearn.metrics import accuracy_score\n",
    "# Create a Random Forest classifier\n",
    "rf_classifier = RandomForestClassifier(random_state=42)\n",
    "\n",
    "# Define the parameter grid for hyperparameter tuning\n",
    "param_grid = {\n",
    "    'n_estimators': [50, 100, 200],\n",
    "    'max_depth': [None, 10, 20],\n",
    "    'min_samples_split': [2, 5, 10],\n",
    "    'min_samples_leaf': [1, 2, 4]\n",
    "}\n",
    "\n",
    "# Perform grid search with cross-validation\n",
    "grid_search = GridSearchCV(rf_classifier, param_grid, cv=5)\n",
    "grid_search.fit(X_train, y_train)\n",
    "\n",
    "# Get the best parameters from the grid search\n",
    "best_params = grid_search.best_params_\n",
    "\n",
    "# Train the model with the best parameters\n",
    "best_rf_classifier = RandomForestClassifier(**best_params, random_state=42)\n",
    "best_rf_classifier.fit(X_train, y_train)\n",
    "\n",
    "# Make predictions on the testing data\n",
    "y_pred_rf = best_rf_classifier.predict(X_test)\n",
    "\n",
    "# Calculate the accuracy of the model\n",
    "accuracy_rf = accuracy_score(y_test, y_pred_rf)\n",
    "print(f\"Best Parameters: {best_params}\")\n",
    "print(f\"Accuracy: {accuracy_rf * 100:.2f}%\")"
   ]
  },
  {
   "cell_type": "markdown",
   "id": "e09e4aba-7b60-4c26-a471-30c974a16d3c",
   "metadata": {},
   "source": [
    "#### 2.5 RNN "
   ]
  },
  {
   "cell_type": "code",
   "execution_count": 41,
   "id": "de2b0d53-0a4a-4259-b2bf-d14154dbeb41",
   "metadata": {},
   "outputs": [
    {
     "name": "stderr",
     "output_type": "stream",
     "text": [
      "2024-02-05 12:33:22.822471: I tensorflow/core/platform/cpu_feature_guard.cc:182] This TensorFlow binary is optimized to use available CPU instructions in performance-critical operations.\n",
      "To enable the following instructions: AVX2 FMA, in other operations, rebuild TensorFlow with the appropriate compiler flags.\n"
     ]
    },
    {
     "name": "stdout",
     "output_type": "stream",
     "text": [
      "Epoch 1/5\n",
      "63/63 [==============================] - 9s 106ms/step - loss: 0.2806 - accuracy: 0.9018 - val_loss: 0.1245 - val_accuracy: 0.9596\n",
      "Epoch 2/5\n",
      "63/63 [==============================] - 6s 96ms/step - loss: 0.0425 - accuracy: 0.9880 - val_loss: 0.0944 - val_accuracy: 0.9731\n",
      "Epoch 3/5\n",
      "63/63 [==============================] - 7s 105ms/step - loss: 0.0177 - accuracy: 0.9945 - val_loss: 0.0868 - val_accuracy: 0.9686\n",
      "Epoch 4/5\n",
      "63/63 [==============================] - 7s 112ms/step - loss: 0.0094 - accuracy: 0.9978 - val_loss: 0.1247 - val_accuracy: 0.9574\n",
      "Epoch 5/5\n",
      "63/63 [==============================] - 8s 121ms/step - loss: 0.0071 - accuracy: 0.9983 - val_loss: 0.1088 - val_accuracy: 0.9641\n",
      "35/35 [==============================] - 1s 23ms/step - loss: 0.0471 - accuracy: 0.9830\n",
      "RNN Model Accuracy: 0.9829596281051636\n"
     ]
    }
   ],
   "source": [
    "from keras.models import Sequential\n",
    "from keras.layers import Embedding, LSTM, Dense, Dropout\n",
    "from keras.preprocessing.sequence import pad_sequences\n",
    "from keras.preprocessing.text import Tokenizer\n",
    "from sklearn.preprocessing import LabelEncoder\n",
    "import numpy as np\n",
    "\n",
    "# Tokenize text\n",
    "tokenizer = Tokenizer()\n",
    "tokenizer.fit_on_texts(cleaned_texts)\n",
    "sequences = tokenizer.texts_to_sequences(cleaned_texts)\n",
    "\n",
    "# Pad sequences to ensure uniform length\n",
    "X = pad_sequences(sequences)\n",
    "\n",
    "# Encode labels\n",
    "le = LabelEncoder()\n",
    "Y = le.fit_transform(y)\n",
    "\n",
    "# Split the data into training and testing sets\n",
    "X_train, X_test, y_train, y_test = train_test_split(X, Y, test_size=0.2, random_state=42)\n",
    "\n",
    "# Define the RNN model\n",
    "model = Sequential()\n",
    "model.add(Embedding(input_dim=len(tokenizer.word_index)+1, output_dim=100, input_length=X.shape[1]))\n",
    "model.add(LSTM(128, dropout=0.2, recurrent_dropout=0.2))\n",
    "model.add(Dense(1, activation='sigmoid'))\n",
    "\n",
    "# Compile the model\n",
    "model.compile(optimizer='adam', loss='binary_crossentropy', metrics=['accuracy'])\n",
    "\n",
    "# Train the model\n",
    "model.fit(X_train, y_train, epochs=5, batch_size=64, validation_split=0.1)\n",
    "\n",
    "# Evaluate the model\n",
    "loss, accuracy = model.evaluate(X_test, y_test)\n",
    "print('RNN Model Accuracy:', accuracy)"
   ]
  },
  {
   "cell_type": "code",
   "execution_count": 46,
   "id": "069a2906-2736-4c43-838e-4d44fcd83494",
   "metadata": {},
   "outputs": [
    {
     "name": "stdout",
     "output_type": "stream",
     "text": [
      "Model: \"sequential\"\n",
      "_________________________________________________________________\n",
      " Layer (type)                Output Shape              Param #   \n",
      "=================================================================\n",
      " embedding (Embedding)       (None, 77, 100)           624000    \n",
      "                                                                 \n",
      " lstm (LSTM)                 (None, 128)               117248    \n",
      "                                                                 \n",
      " dense (Dense)               (None, 1)                 129       \n",
      "                                                                 \n",
      "=================================================================\n",
      "Total params: 741377 (2.83 MB)\n",
      "Trainable params: 741377 (2.83 MB)\n",
      "Non-trainable params: 0 (0.00 Byte)\n",
      "_________________________________________________________________\n"
     ]
    }
   ],
   "source": [
    "model.summary()"
   ]
  },
  {
   "cell_type": "code",
   "execution_count": 5,
   "id": "cb768cda-c424-462f-803f-2595a470e5af",
   "metadata": {},
   "outputs": [
    {
     "data": {
      "image/png": "[encoded data removed]",
      "text/plain": [
       "<Figure size 1000x600 with 1 Axes>"
      ]
     },
     "metadata": {},
     "output_type": "display_data"
    }
   ],
   "source": [
    "import matplotlib.pyplot as plt\n",
    "\n",
    "# Model names\n",
    "models = ['Logistic Regression', 'Naive Bayes', 'SVM','Random Forrest', 'RNN']\n",
    "\n",
    "# Accuracy of each model\n",
    "accuracy = [0.958, 0.965, 0.9776,0.9157, 0.982]  # Assuming RNN accuracy as 98% for demonstration\n",
    "\n",
    "plt.figure(figsize=(10, 6))\n",
    "plt.bar(models, accuracy)\n",
    "plt.xlabel('Model')\n",
    "plt.ylabel('Accuracy')\n",
    "plt.title('Accuracy of Different Models')\n",
    "plt.ylim(0.8, 1)\n",
    "for i, acc in enumerate(accuracy):\n",
    "    plt.text(i, acc + 0.001, f'{acc:.4f}', ha = 'center')\n",
    "plt.savefig('accuracy.png')\n",
    "plt.show()\n"
   ]
  },
  {
   "cell_type": "code",
   "execution_count": null,
   "id": "97844b56-6e55-4b1d-a3b1-274af5342d52",
   "metadata": {},
   "outputs": [],
   "source": []
  }
 ],
 "metadata": {
  "kernelspec": {
   "display_name": "Python 3 (ipykernel)",
   "language": "python",
   "name": "python3"
  },
  "language_info": {
   "codemirror_mode": {
    "name": "ipython",
    "version": 3
   },
   "file_extension": ".py",
   "mimetype": "text/x-python",
   "name": "python",
   "nbconvert_exporter": "python",
   "pygments_lexer": "ipython3",
   "version": "3.11.7"
  }
 },
 "nbformat": 4,
 "nbformat_minor": 5
}
